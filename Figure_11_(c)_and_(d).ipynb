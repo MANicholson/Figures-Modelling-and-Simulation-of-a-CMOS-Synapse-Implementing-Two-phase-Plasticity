{
  "cells": [
    {
      "cell_type": "markdown",
      "metadata": {
        "id": "view-in-github",
        "colab_type": "text"
      },
      "source": [
        "<a href=\"https://colab.research.google.com/github/MANicholson/Figures-Modelling-and-Simulation-of-a-CMOS-Synapse-Implementing-Two-phase-Plasticity/blob/main/Figure_11_(c)_and_(d).ipynb\" target=\"_parent\"><img src=\"https://colab.research.google.com/assets/colab-badge.svg\" alt=\"Open In Colab\"/></a>"
      ]
    },
    {
      "cell_type": "markdown",
      "metadata": {
        "id": "tqPA3r-24fP2"
      },
      "source": [
        "# Installs and imports\n"
      ]
    },
    {
      "cell_type": "code",
      "execution_count": null,
      "metadata": {
        "colab": {
          "base_uri": "https://localhost:8080/"
        },
        "id": "mBKTThO53_E3",
        "outputId": "9a6c9980-653d-4b0c-9270-f665a01a25ef"
      },
      "outputs": [
        {
          "output_type": "stream",
          "name": "stdout",
          "text": [
            "Collecting equinox\n",
            "  Downloading equinox-0.11.4-py3-none-any.whl (175 kB)\n",
            "\u001b[2K     \u001b[90m━━━━━━━━━━━━━━━━━━━━━━━━━━━━━━━━━━━━━━━━\u001b[0m \u001b[32m175.2/175.2 kB\u001b[0m \u001b[31m1.3 MB/s\u001b[0m eta \u001b[36m0:00:00\u001b[0m\n",
            "\u001b[?25hRequirement already satisfied: jax>=0.4.13 in /usr/local/lib/python3.10/dist-packages (from equinox) (0.4.26)\n",
            "Collecting jaxtyping>=0.2.20 (from equinox)\n",
            "  Downloading jaxtyping-0.2.31-py3-none-any.whl (41 kB)\n",
            "\u001b[2K     \u001b[90m━━━━━━━━━━━━━━━━━━━━━━━━━━━━━━━━━━━━━━━━\u001b[0m \u001b[32m42.0/42.0 kB\u001b[0m \u001b[31m3.3 MB/s\u001b[0m eta \u001b[36m0:00:00\u001b[0m\n",
            "\u001b[?25hRequirement already satisfied: typing-extensions>=4.5.0 in /usr/local/lib/python3.10/dist-packages (from equinox) (4.12.2)\n",
            "Requirement already satisfied: ml-dtypes>=0.2.0 in /usr/local/lib/python3.10/dist-packages (from jax>=0.4.13->equinox) (0.2.0)\n",
            "Requirement already satisfied: numpy>=1.22 in /usr/local/lib/python3.10/dist-packages (from jax>=0.4.13->equinox) (1.25.2)\n",
            "Requirement already satisfied: opt-einsum in /usr/local/lib/python3.10/dist-packages (from jax>=0.4.13->equinox) (3.3.0)\n",
            "Requirement already satisfied: scipy>=1.9 in /usr/local/lib/python3.10/dist-packages (from jax>=0.4.13->equinox) (1.11.4)\n",
            "Collecting typeguard==2.13.3 (from jaxtyping>=0.2.20->equinox)\n",
            "  Downloading typeguard-2.13.3-py3-none-any.whl (17 kB)\n",
            "Installing collected packages: typeguard, jaxtyping, equinox\n",
            "Successfully installed equinox-0.11.4 jaxtyping-0.2.31 typeguard-2.13.3\n"
          ]
        }
      ],
      "source": [
        "!pip install equinox"
      ]
    },
    {
      "cell_type": "code",
      "execution_count": null,
      "metadata": {
        "id": "zED0I6Ab4CNT"
      },
      "outputs": [],
      "source": [
        "import jax\n",
        "import random\n",
        "import jax.numpy as jnp\n",
        "import numpy as np\n",
        "import matplotlib.pyplot as plt\n",
        "import equinox as eqx\n",
        "# import snntorch as snn\n",
        "import torch\n",
        "# from snntorch import spikegen\n",
        "import pandas as pd"
      ]
    },
    {
      "cell_type": "markdown",
      "metadata": {
        "id": "LcgRr41x_HTq"
      },
      "source": [
        "# Base code for neural network"
      ]
    },
    {
      "cell_type": "code",
      "execution_count": null,
      "metadata": {
        "id": "eIrlbCQn1Wuo"
      },
      "outputs": [],
      "source": [
        "import equinox as eqx\n",
        "import jax\n",
        "import jax.numpy as jnp\n",
        "import numpy as np\n",
        "\n",
        "class many_synapse(eqx.Module):\n",
        "    tau_DPI: float\n",
        "    dt: float\n",
        "    delta_capre: float\n",
        "    delta_capost: float\n",
        "    I_TH: float\n",
        "    I_INDC: float\n",
        "    I_TAU: float\n",
        "    ica_0: float\n",
        "    C: float\n",
        "    v_H0: float\n",
        "    I_THPOT: float\n",
        "    I_THDEP: float\n",
        "    I_TAILP: float\n",
        "    I_TAILP_low: float\n",
        "    I_TAILD: float\n",
        "    I_TAILD_low: float\n",
        "    i_hrn: float\n",
        "    i_hrp: float\n",
        "    v_h0: float\n",
        "    V_DD: float\n",
        "    tau_z_c: float\n",
        "    z_max: float\n",
        "    z_min: float\n",
        "    theta_tag_c: float\n",
        "    alpha: float\n",
        "    theta_pro_circuit: float\n",
        "    z_0: float\n",
        "    beta: float\n",
        "    reset_voltage: float\n",
        "    V_rev: float\n",
        "    V_spike_threshold: float\n",
        "    tau_m: float\n",
        "    R_m: float\n",
        "    refractory_period: float\n",
        "    h_0: float = 0.0\n",
        "\n",
        "    def __call__(self, t_spike_pre_array, I_stim):\n",
        "        num_input_neurons = t_spike_pre_array.shape[0]\n",
        "\n",
        "        # Initial states\n",
        "        i_ca = jnp.zeros((num_input_neurons, 1)) + self.ica_0\n",
        "        v_h = jnp.zeros((num_input_neurons, 1)) + self.v_h0\n",
        "        z_ji = jnp.zeros((num_input_neurons, 1)) + self.z_0\n",
        "        w_ji = jnp.zeros((num_input_neurons, 1)) + self.beta * self.v_h0 + self.beta * self.v_h0 * self.z_0\n",
        "        V_i = jnp.zeros((1,)) + self.V_rev\n",
        "        p_i = jnp.zeros((num_input_neurons, 1))\n",
        "        t_spike_post = 0.0  # Initialize t_spike_post to 0\n",
        "        refractory_timer = jnp.zeros((1,))\n",
        "\n",
        "        # Lists to store the results\n",
        "        V_i_list = []\n",
        "        t_spike_post_list = []\n",
        "\n",
        "        def step(carry, input_):\n",
        "            t_spike_post, i_ca, v_h, z_ji, p_i, w_ji, V_i, refractory_timer = carry\n",
        "            t_spike_pre, I_stim = input_\n",
        "\n",
        "            # Code for the neurons in the second layer:..............................\n",
        "\n",
        "            in_refractory = jnp.squeeze(refractory_timer > 0)\n",
        "            V_i = jax.lax.cond(in_refractory, lambda _: jnp.array([self.reset_voltage]), lambda _: V_i, operand=None)\n",
        "\n",
        "            inhibition_condition = jnp.squeeze(jnp.sum(I_stim) < 0)\n",
        "            #V_i = jax.lax.cond(in_refractory, lambda _: jnp.array([self.reset_voltage]), lambda _: V_i, operand=None)\n",
        "\n",
        "            reversal_term = (1 / self.tau_m) * (-V_i + self.V_rev)\n",
        "            pre_spike_contribution = (1 / self.tau_m) * jnp.sum(t_spike_pre * w_ji)\n",
        "            current_term = (1 / self.tau_m) * jnp.sum((self.R_m * I_stim))\n",
        "\n",
        "            spike_condition = jnp.squeeze(V_i > self.V_spike_threshold)\n",
        "\n",
        "            V_i_new = jax.lax.cond(spike_condition, lambda _: jnp.array([self.reset_voltage]), lambda _: V_i + (reversal_term + current_term) * self.dt + pre_spike_contribution, operand=None)\n",
        "            #For inhibition\n",
        "            V_i_new = jax.lax.cond(inhibition_condition, lambda _: jnp.array([self.reset_voltage]), lambda _: V_i + (reversal_term + current_term) * self.dt + pre_spike_contribution, operand=None)\n",
        "\n",
        "            # Update t_spike_post based on spike condition\n",
        "            t_spike_post_new = jax.lax.cond(spike_condition, lambda _: 1.0, lambda _: 0.0, operand=None)\n",
        "            t_spike_post_list.append(t_spike_post_new)\n",
        "\n",
        "            refractory_timer_new = jax.lax.cond(spike_condition, lambda _: jnp.array([self.refractory_period]), lambda _: jax.numpy.maximum(refractory_timer - self.dt, 0), operand=None)\n",
        "\n",
        "            # Calcium part ---------------------------------------------------------\n",
        "            dica_dt = (1 / self.tau_DPI) * (-i_ca + self.I_TH * self.I_INDC / self.I_TAU)\n",
        "            ica_pre_increase = t_spike_pre * self.delta_capre # <----------------------------------------------------------- TOOK AWAY JNP.SUM()\n",
        "            ica_post_increase = t_spike_post_new * self.delta_capost\n",
        "            i_ca_new = i_ca + dica_dt * self.dt + ica_pre_increase.T + ica_post_increase\n",
        "\n",
        "            # print('t_spike_pre shape:', t_spike_pre.shape)\n",
        "\n",
        "            # Early-phase part -----------------------------------------------------\n",
        "            recovery_condition = jnp.squeeze(v_h > self.v_H0)\n",
        "            potentiation_condition = jnp.squeeze(i_ca_new > self.I_THPOT)\n",
        "            depression_condition = jnp.squeeze(i_ca_new > self.I_THDEP)\n",
        "\n",
        "            # i_recovery = jax.lax.cond(recovery_condition, lambda _: - self.i_hrn, lambda _: self.i_hrp, operand=None)\n",
        "            i_recovery = jnp.array([jnp.where(recovery_condition, - self.i_hrn, self.i_hrp)])\n",
        "\n",
        "            # i_potentiation = jax.lax.cond(potentiation_condition, lambda _: self.I_TAILP, lambda _: self.I_TAILP_low, operand=None)\n",
        "            i_potentiation = jnp.array([jnp.where(potentiation_condition, self.I_TAILP, self.I_TAILP_low)])\n",
        "\n",
        "            # i_depression = jax.lax.cond(depression_condition, lambda _: - self.I_TAILD, lambda _: self.I_TAILD_low, operand=None)   ------------------------ 0.003, 0.0012, 62, 39.5\n",
        "            i_depression = jnp.array([jnp.where(depression_condition, - self.I_TAILD, self.I_TAILD_low)])\n",
        "\n",
        "            v_h_new = v_h + (1 / self.C) * (i_recovery.T + i_potentiation.T + i_depression.T) * self.dt\n",
        "\n",
        "            # Ensure v_h_new is not less than 0\n",
        "            v_h_new = jnp.maximum(v_h_new, 0)\n",
        "\n",
        "            # Late-phase part ------------------------------------------------------\n",
        "            epsilon_hi = jnp.abs(v_h_new - self.v_h0)\n",
        "            condition = jnp.array([jnp.squeeze(epsilon_hi > self.theta_pro_circuit)])\n",
        "            #p_i = jax.lax.cond(condition, lambda _: self.alpha, lambda _: p_i, operand=None)\n",
        "            p_i = jnp.where(condition.T, self.alpha, p_i)\n",
        "            pot_term = p_i * (self.z_max - z_ji) * ((v_h_new - self.v_h0 - self.theta_tag_c) > 0)\n",
        "            dep_term = p_i * (z_ji - self.z_min) * ((self.h_0 - v_h_new - self.theta_tag_c) > 0)\n",
        "            dz_dt = (1 / self.tau_z_c) * (pot_term - dep_term)\n",
        "            z_ji_new = z_ji + dz_dt * self.dt\n",
        "\n",
        "            # Ensure z_ji_new is not less than 0\n",
        "            z_ji_new = jnp.maximum(z_ji_new, 0)\n",
        "\n",
        "            # Total synaptic weight ------------------------------------------------\n",
        "            w_ji_new =  v_h_new +  z_ji_new / 0.21\n",
        "\n",
        "            V_i_list.append(V_i_new)\n",
        "\n",
        "            carry = (t_spike_post_new, i_ca_new, v_h_new, z_ji_new, p_i, w_ji_new, V_i_new, refractory_timer_new)\n",
        "            return carry, (i_ca_new, v_h_new, z_ji_new, w_ji_new, V_i_new, t_spike_post_new)\n",
        "\n",
        "        carry = (t_spike_post, i_ca, v_h, z_ji, p_i, w_ji, V_i, refractory_timer)\n",
        "        _, (i_ca, v_h, z_ji, w_ji, V_i, t_spike_post) = jax.lax.scan(step, carry, (t_spike_pre_array.T, I_stim.T))\n",
        "\n",
        "        time_array = jnp.arange(len((i_ca.T)[0][0])) * self.dt\n",
        "\n",
        "        return i_ca.T, v_h.T, z_ji.T, w_ji.T, jnp.concatenate(V_i), t_spike_post, time_array\n"
      ]
    },
    {
      "cell_type": "markdown",
      "metadata": {
        "id": "6n6nfWkr_LnK"
      },
      "source": [
        "## Differential constants"
      ]
    },
    {
      "cell_type": "code",
      "execution_count": null,
      "metadata": {
        "id": "fZayZoZq_M3y"
      },
      "outputs": [],
      "source": [
        "# Constants\n",
        "\n",
        "# tc_delay = 0.0188  # Delay of postsynaptic calcium influx after presynaptic spike [s]\n",
        "c_pre = 0.6  # Presynaptic calcium contribution [in vivo adjusted]\n",
        "c_post = 0.1655  # Postsynaptic calcium contribution [in vivo adjusted]\n",
        "tau_c = 0.0488  # Calcium time constant [s]\n",
        "tau_h = 688.4 # ALTERED FROM 688.4  # Early-phase time constant [s]\n",
        "tau_p = 60*60  # Protein time constant [s]\n",
        "tau_z = 60*60  # Late-phase time constant [s]\n",
        "# nu_th = 40  # Firing rate threshold for LTP induction [Hz]\n",
        "gamma_p = 1645.6 # ALTERED FROM 1645.6  # Potentiation rate\n",
        "gamma_d = 313.1 # ALTERED FROM 313.1  # Depression rate\n",
        "theta_p = 0.003 # ALTERED FROM 3  # Calcium threshold for potentiation\n",
        "theta_d = 0.002 # ALTERED FROM 1.2  # Calcium threshold for depression\n",
        "# sigma_pl = 2.90436 * 10**(-3)  # Standard deviation for plasticity fluctuations [V]\n",
        "alpha = 1.0  # Protein synthesis rate\n",
        "theta_pro = 0.003 #2.10037  * 10**(-3)  # Protein synthesis threshold [V]\n",
        "theta_tag = 0.840149  * 10**(-3)  # Tagging threshold [V]\n",
        "h_0 = 4.20075  * 10**(-3) # Median initial excitatory→excitatory coupling strength [V]\n",
        "h_init = h_0\n",
        "z_0 = 0.01\n",
        "# Combining Jorge's thesis and Jannik's paper\n",
        "\n",
        "h_max = 10 * 10**(-3) # The maximum value of the early-phase variable [V]\n",
        "z_max = 1 # The minimum value of the late-phase variable\n",
        "z_min = - 0.5 # The maximum value of the late-phase variable\n",
        "\n",
        "beta = 4.6675*10**(-3)"
      ]
    },
    {
      "cell_type": "markdown",
      "metadata": {
        "id": "N128pipz_N8M"
      },
      "source": [
        "## Circuit constants"
      ]
    },
    {
      "cell_type": "code",
      "execution_count": null,
      "metadata": {
        "id": "QBbb6wmE_Nsf"
      },
      "outputs": [],
      "source": [
        "# Calcium:\n",
        "I_INDC = 25 * 10**(-12)\n",
        "i_pre = 800 * 10**(-12)\n",
        "i_post = 200 * 10**(-12) # CHANGED FROM: 200 * 10**(-12)\n",
        "tau_DPI = 0.00488 # 4.88 * 10**(-3) <--- This works for a dt of 0.001\n",
        "I_TH = 10 * 10**(-12)\n",
        "I_TAU = 20 * 10**(-12)\n",
        "ica_0 = 17 * 10**(-12)\n",
        "delta_capre = 60 * 10**(-12) # CHanged from 60e-12\n",
        "delta_capost = 15 * 10**(-12) # CHANGED FROM: 15 * 10**(-12)\n",
        "\n",
        "\n",
        "# Early-phase:\n",
        "tau_h_c = 68.84 # [s]\n",
        "C = 1.2215 * 10**(-12)\n",
        "v_H0 = 0.9 # [V] V_H0 = 1/2 * V_DD (page 30 Jorge)\n",
        "I_THPOT = 62 * 10**(-12) # CHANGED FROM: 62 * 10**(-12), 75 works\n",
        "I_THDEP = 39.5* 10**(-12) # CHANGED FROM: 39.5 * 10**(-12), 50 works\n",
        "I_TAILP = 50 * 10**(-12)\n",
        "I_TAILP_low = 1.2 * 10**(-15) #<----------------------------------------\n",
        "I_TAILD = 10 * 10**(-12) # CHANGED FROM 10 * 10**(-12)\n",
        "I_TAILD_low = 1.2 * 10**(-15) #<----------------------------------------\n",
        "i_hrp = 2.5 * 10**(-15)\n",
        "i_hrn = 18 * 10**(-15)\n",
        "v_h0 = 900 * 10**(-3) # [V]\n",
        "V_DD = 1.8 # [V] page 26 Jorge's thesis\n",
        "z_0 = 0.0\n",
        "# Late phase:\n",
        "theta_tag_c = 0.0151226\n",
        "theta_pro_circuit = 0.0\n",
        "tau_z_c = 360\n",
        "tau_p_c = 360\n",
        "\n",
        "\n",
        "beta = 4.6675*10**(-3) # The constant needed to convvert the early-phase voltage given by Jorge's circuit to voltages comparable with Jannik's paper (and the late phase weight)."
      ]
    },
    {
      "cell_type": "markdown",
      "metadata": {
        "id": "Of3zOOJO_UPY"
      },
      "source": [
        "# Training the neural network"
      ]
    },
    {
      "cell_type": "code",
      "execution_count": null,
      "metadata": {
        "id": "8K92rTWwgDTj"
      },
      "outputs": [],
      "source": [
        "tau_m = 0.01\n",
        "V_rev = -0.065 #\n",
        "R_m = 10e6\n",
        "reset_voltage = -0.07\n",
        "V_spike_threshold = 70\n",
        "refractory_period = 0.0001\n",
        "dt = 0.001"
      ]
    },
    {
      "cell_type": "code",
      "execution_count": null,
      "metadata": {
        "id": "Vo2CJR6d_WRb"
      },
      "outputs": [],
      "source": [
        "manySynapse = many_synapse(\n",
        "    tau_DPI, dt, delta_capre, delta_capost, I_TH, I_INDC, I_TAU, ica_0,\n",
        "    C, v_H0, I_THPOT, I_THDEP, I_TAILP, I_TAILP_low, I_TAILD, I_TAILD_low, i_hrn, i_hrp,\n",
        "    v_h0, V_DD, tau_z_c, z_max, z_min, theta_tag_c, alpha, theta_pro_circuit, z_0, beta, reset_voltage, V_rev, V_spike_threshold, tau_m, R_m, refractory_period\n",
        ")\n",
        "\n",
        "results = []"
      ]
    },
    {
      "cell_type": "markdown",
      "metadata": {
        "id": "71a3lfS9OP7t"
      },
      "source": [
        "## Creating arrays with the final weights and plotting synaptic weights"
      ]
    },
    {
      "cell_type": "code",
      "source": [
        "input_spikes = [0, 1, 0, 1, 0, 1, 0, 1, 0, 1, 0, 1, 0, 1, 0, 1, 0, 1, 0, 1, 0, 1, 0, 1, 0, 1, 0, 1, 0, 1, 0, 1, 0, 1, 0, 1, 0, 1, 0, 1, 0, 1, 0, 1, 0, 1, 0, 1, 0, 1, 0, 1, 0, 1, 0, 1, 0, 1, 0, 1, 0, 1, 0, 1, 0, 1, 0, 1, 0, 1, 0, 1, 0, 1, 0, 1, 0, 1, 0, 1, 0, 1, 0, 1, 0, 1, 0, 1, 0, 1, 0, 1, 0, 1, 0, 1, 0, 1, 0, 1, 0, 0, 0, 0, 0, 0, 0, 0, 0, 0, 0, 0, 0, 0, 0, 0, 0, 0, 0, 0, 0, 0, 0, 0, 0, 0, 0, 0, 0, 0]\n",
        "# input_spikes = [1, 1, 1, 1, 1, 1, 1, 1, 1, 1, 1, 1, 1, 1]#, 0, 1, 0, 1, 0, 1, 0, 1, 0]#, 1, 0, 1, 0, 1, 0, 1, 0, 1, 0, 1, 0, 1, 0, 1, 0, 1, 0, 1, 0, 1, 0, 1, 0, 1, 0, 1, 0, 1, 0, 1, 0, 1, 0, 1, 0, 1, 0, 1, 0, 1, 0, 1, 0, 1, 0, 1, 0, 1, 0, 1, 0, 1, 0, 1, 0, 1, 0, 1, 0, 1, 0, 1, 0, 1, 0, 1, 0, 1, 0, 1, 0, 1, 0, 1, 0, 1, 0, 0, 0, 0, 0, 0, 0, 0, 0, 0, 0, 0, 0, 0, 0, 0, 0, 0, 0, 0, 0, 0, 0, 0, 0, 0, 0, 0, 0, 0]\n",
        "input_spikes.extend([0]*400000)\n",
        "INPUT_SPIKES = jnp.array([input_spikes])\n",
        "\n",
        "stim = jnp.zeros_like(INPUT_SPIKES)"
      ],
      "metadata": {
        "id": "1iyAJfGRdnZY"
      },
      "execution_count": null,
      "outputs": []
    },
    {
      "cell_type": "code",
      "execution_count": null,
      "metadata": {
        "id": "ylCaXSNcGdHi"
      },
      "outputs": [],
      "source": [
        "calc, earl, late, tota, potent, postspikes, timeee = (manySynapse(INPUT_SPIKES, stim))"
      ]
    },
    {
      "cell_type": "code",
      "source": [
        "# Data extracted from [11], to plot Figure 11 (d)\n",
        "\n",
        "x1 = jnp.array([0.01654846335697403, 0.14066193853427894, 0.2730496453900709, 0.39716312056737585, 0.5626477541371159, 0.7860520094562649, 1.017730496453901, 1.2245862884160756, 1.4562647754137112, 1.663120567375886, 1.9527186761229314, 2.1430260047281324, 2.2588652482269502, 7.215130023640663])\n",
        "y1 = jnp.array([100.23923444976077, 100.95693779904306, 103.34928229665071, 107.17703349282296, 112.67942583732055, 122.00956937799043, 132.05741626794259, 140.43062200956936, 149.76076555023923, 157.89473684210526, 166.7464114832536, 171.29186602870814, 172.2488038277512, 172.48803827751195])\n",
        "\n",
        "x2 = jnp.array([0.01654846335697403, 0.01654846335697403, 0.03309692671394794, 0.12411347517730492, 0.3475177304964539, 0.6122931442080379, 0.9018912529550828, 1.2411347517730495, 1.646572104018912, 2.1595744680851063, 2.6973995271867612, 3.2848699763593374, 3.979905437352246, 4.65839243498818, 5.469267139479906, 6.2304964539007095, 6.991725768321513])\n",
        "y2 = jnp.array([99.16267942583731, 171.41148325358853, 162.55980861244018, 158.9712918660287, 152.99043062200957, 146.29186602870814, 139.35406698564594, 133.13397129186603, 126.91387559808611, 121.17224880382774, 115.66985645933013, 111.84210526315789, 107.5358851674641, 105.14354066985645, 103.94736842105263, 102.7511961722488, 101.79425837320571])\n",
        "\n",
        "x3 = jnp.array([0.01654846335697403, 0.01654846335697403, 0.024822695035460984, 0.08274231678487003, 0.157210401891253, 0.2399527186761229, 0.33924349881796695, 0.4550827423167849, 0.595744680851064, 0.7612293144208038, 0.9680851063829786, 1.2411347517730495, 1.5224586288416073, 1.7541371158392431, 1.9692671394799053, 2.1761229314420802, 2.2919621749408985, 2.457446808510638, 2.730496453900709, 3.0118203309692664, 3.4089834515366424, 3.8392434988179667, 4.3108747044917255, 4.964539007092199, 5.700945626477542, 6.33806146572104, 7.033096926713948])\n",
        "y3 = jnp.array([100.59808612440189, 171.88995215311007, 162.55980861244018, 161.1244019138756, 159.688995215311, 158.9712918660287, 158.2535885167464, 158.73205741626793, 160.64593301435406, 163.51674641148327, 168.30143540669857, 174.52153110047848, 180.98086124401914, 186.244019138756, 190.07177033492826, 191.98564593301435, 191.7464114832536, 190.31100478468903, 188.39712918660285, 186.00478468899522, 183.85167464114835, 180.98086124401914, 179.3062200956938, 177.39234449760767, 175.95693779904306, 175.47846889952154, 174.52153110047848])\n",
        "\n"
      ],
      "metadata": {
        "id": "ftnk6GLZhX9g"
      },
      "execution_count": null,
      "outputs": []
    },
    {
      "cell_type": "code",
      "source": [
        "\n",
        "fig, axes = plt.subplots(1, 2, figsize=(10, 4))\n",
        "\n",
        "\n",
        "# plt.fig_size()\n",
        "# 20*(late[0][0]/13.35)/late[0][0][0] + 0.95\n",
        "axes[0].set_title('(c)')\n",
        "axes[0].plot(timeee, earl[0][0]/(earl[0][0][0])*24 + 77, color = 'green')\n",
        "axes[0].plot(timeee, 129.2*(((late[0][0])))+100, color = 'royalblue')\n",
        "axes[0].plot(timeee, 77+24*tota[0][0]/(earl[0][0][0]), color = 'orange')\n",
        "axes[0].set_ylim(95, 205)\n",
        "axes[0].grid()\n",
        "axes[0].set_xlabel('Time [s]', fontsize = 12)\n",
        "axes[0].set_ylabel('Synaptic weight [%]', fontsize = 12)\n",
        "\n",
        "axes[1].set_title('(d)')\n",
        "axes[1].plot(x1, y1+10, color = 'royalblue', label = 'Early-phase weight')\n",
        "axes[1].plot(x2, y2+10, color = 'green', label = 'Late-phase weight')\n",
        "axes[1].plot(x3, y3+10, color = 'orange', label = 'Total weight')\n",
        "axes[1].set_ylim(95, 205)\n",
        "axes[1].legend(loc = 'upper right')\n",
        "axes[1].set_yticklabels([])\n",
        "axes[1].grid()\n",
        "axes[1].set_xlabel('Time [h]', fontsize = 12)\n",
        "\n",
        "plt.tight_layout()"
      ],
      "metadata": {
        "colab": {
          "base_uri": "https://localhost:8080/",
          "height": 407
        },
        "id": "22k28Q7WtWmO",
        "outputId": "0a61c373-7ae9-4427-ea58-487363f24b6c"
      },
      "execution_count": null,
      "outputs": [
        {
          "output_type": "display_data",
          "data": {
            "text/plain": [
              "<Figure size 1000x400 with 2 Axes>"
            ],
            "image/png": "[encoded data removed]"
          },
          "metadata": {}
        }
      ]
    }
  ],
  "metadata": {
    "colab": {
      "provenance": [],
      "authorship_tag": "ABX9TyPuVOi3JRJHBK/e6VG4M0ir",
      "include_colab_link": true
    },
    "kernelspec": {
      "display_name": "Python 3",
      "name": "python3"
    },
    "language_info": {
      "name": "python"
    }
  },
  "nbformat": 4,
  "nbformat_minor": 0
}